{
  "nbformat": 4,
  "nbformat_minor": 0,
  "metadata": {
    "colab": {
      "name": "LSTM_tomato_7/15.ipynb",
      "provenance": []
    },
    "kernelspec": {
      "name": "python3",
      "display_name": "Python 3"
    }
  },
  "cells": [
    {
      "cell_type": "code",
      "metadata": {
        "id": "dPNs5QEAbu2x",
        "colab_type": "code",
        "colab": {}
      },
      "source": [
        "!apt-get install -y -qq software-properties-common python-software-properties module-init-tools\n",
        "!add-apt-repository -y ppa:alessandro-strada/ppa 2>&1 > /dev/null\n",
        "!apt-get update -qq 2>&1 > /dev/null\n",
        "!apt-get -y install -qq google-drive-ocamlfuse fuse\n",
        "from google.colab import auth\n",
        "auth.authenticate_user()\n",
        "from oauth2client.client import GoogleCredentials\n",
        "creds = GoogleCredentials.get_application_default()\n",
        "import getpass\n",
        "!google-drive-ocamlfuse -headless -id={creds.client_id} -secret={creds.client_secret} < /dev/null 2>&1 | grep URL\n",
        "vcode = getpass.getpass()\n",
        "!echo {vcode} | google-drive-ocamlfuse -headless -id={creds.client_id} -secret={creds.client_secret}"
      ],
      "execution_count": null,
      "outputs": []
    },
    {
      "cell_type": "code",
      "metadata": {
        "id": "ZYHe9d84b5ID",
        "colab_type": "code",
        "colab": {
          "base_uri": "https://localhost:8080/",
          "height": 52
        },
        "outputId": "1693290b-a6eb-494e-e64d-495f8ff68265"
      },
      "source": [
        "# 指定Google Drive云端硬盘的根目录，名为drive\n",
        "!mkdir -p drive\n",
        "!google-drive-ocamlfuse drive"
      ],
      "execution_count": null,
      "outputs": [
        {
          "output_type": "stream",
          "text": [
            "fuse: mountpoint is not empty\n",
            "fuse: if you are sure this is safe, use the 'nonempty' mount option\n"
          ],
          "name": "stdout"
        }
      ]
    },
    {
      "cell_type": "code",
      "metadata": {
        "id": "rD5vq2ZYb-VM",
        "colab_type": "code",
        "colab": {}
      },
      "source": [
        "# 指定當前的工作資料夾\n",
        "import os\n",
        "# 此處為google drive中的檔案路徑,drive為之前指定的工作根目錄，要加上\n",
        "os.chdir(\"drive/Colab Notebooks\")"
      ],
      "execution_count": null,
      "outputs": []
    },
    {
      "cell_type": "code",
      "metadata": {
        "id": "jmYll0V0b-2z",
        "colab_type": "code",
        "colab": {
          "base_uri": "https://localhost:8080/",
          "height": 35
        },
        "outputId": "fc4b5010-7154-490c-e2e8-a8c6e64a4953"
      },
      "source": [
        "# load and plot dataset\n",
        "from pandas import read_csv\n",
        "from pandas import datetime\n",
        "from pandas import DataFrame\n",
        "from pandas import concat\n",
        "from pandas import Series\n",
        "from matplotlib import pyplot\n",
        "from sklearn.metrics import mean_squared_error\n",
        "from sklearn.preprocessing import MinMaxScaler\n",
        "from math import sqrt\n",
        "from keras.models import Sequential\n",
        "from keras.layers import Dense\n",
        "from keras.layers import LSTM\n",
        "from keras import optimizers\n",
        "import numpy\n",
        "from numpy import concatenate\n",
        "import pandas as pd\n",
        "import time\n",
        "import numpy as np"
      ],
      "execution_count": null,
      "outputs": [
        {
          "output_type": "stream",
          "text": [
            "Using TensorFlow backend.\n"
          ],
          "name": "stderr"
        }
      ]
    },
    {
      "cell_type": "code",
      "metadata": {
        "id": "zpv8zewZcAwM",
        "colab_type": "code",
        "colab": {}
      },
      "source": [
        "# 當前時間\n",
        "start = time.time()"
      ],
      "execution_count": null,
      "outputs": []
    },
    {
      "cell_type": "code",
      "metadata": {
        "id": "b15Ajy80cOAz",
        "colab_type": "code",
        "colab": {}
      },
      "source": [
        "# load dataset \n",
        "def parser(x):\n",
        "    return datetime.strptime(x, '%Y/%m/%d')                                      # datetime.strptime 函数来定義日期格式\n",
        "\n",
        "series = read_csv('wheat_200910-201803.csv', header=0, parse_dates=[0],index_col=0, squeeze=True, date_parser=parser)\n",
        "# https://www.cnblogs.com/datablog/p/6127000.html (read_csv參數介紹)\n",
        "# header(=0,第一row做為col name)\n",
        "# parse_dates(指定csv中日期序列,True每個去找,False不找,[0]代表指定第一個為col name)\n",
        "# index_col(=0,第一col做為row name)\n",
        "# squeeze(如果只包含一col則返回一個Series)\n",
        "# date_parser(用於解析日期的函數,parser為自訂義)                                      \n",
        "series.columns = ['open', 'high', 'low', 'close']\n",
        "series"
      ],
      "execution_count": null,
      "outputs": []
    },
    {
      "cell_type": "code",
      "metadata": {
        "id": "DNnHn_IGcaui",
        "colab_type": "code",
        "colab": {}
      },
      "source": [
        "# 以每周五重新採樣(W每周-FRI星期五)\n",
        "series = series.resample('W-FRI').last()           # last從後面開始\n",
        "# 移除最後一周(最後一周不是禮拜五)\n",
        "series = series.drop(series.tail(1).index)\n",
        "series.tail()"
      ],
      "execution_count": null,
      "outputs": []
    },
    {
      "cell_type": "code",
      "metadata": {
        "id": "Vxp6jxvscgFC",
        "colab_type": "code",
        "colab": {}
      },
      "source": [
        "# 將data轉為固定值\n",
        "# 轉成差值\n",
        "def difference(dataset, interval=1):                                             # dataset,interval(時間間隔)\n",
        "    diff = list()\n",
        "    for i in range(interval, len(dataset)):                                      # 固定間隔下,這次價格-上次價格的差\n",
        "        value = dataset[i] - dataset[i - interval]                               # 假設間隔為1, value1 = dataset[1] - dataset[0] value2 = dataset[2] - dataset[1]\n",
        "        diff.append(value)\n",
        "    return numpy.array(diff)\n",
        "\n",
        "raw_values = series.values                       # 讀series的值\n",
        "close_values = raw_values[:,-1]                  # 讀raw_values的收盤價\n",
        "diff_values = difference(raw_values, 1)          # 自訂義,讀series每個時間點相差的值\n",
        "diff_values"
      ],
      "execution_count": null,
      "outputs": []
    },
    {
      "cell_type": "code",
      "metadata": {
        "id": "4CW8QlVWciq7",
        "colab_type": "code",
        "colab": {}
      },
      "source": [
        "# 將data轉為自訂義\n",
        "def timeseries_to_supervised(data, lag=1):                                       # data,lag(延遲之時間間隔)\n",
        "    df = DataFrame(data)\n",
        "    columns = [df.shift(i) for i in range(1, lag+1)]                             # df.shift() 對數據進行移動 df.shift(1) 向後移一格 df.shift(-1) 向前移一格\n",
        "    columns.append(df)                                                           # 把結果放到[]裡,把df加到columns後面\n",
        "    df = concat(columns, axis=1)                                                 # 將columns裡的dataframe以col合併(axis=1)\n",
        "    df.fillna(0, inplace = True)                                                 # 將空值補0\n",
        "    return df\n",
        "\n",
        "supervised = timeseries_to_supervised(diff_values, 1)                                             # 自訂義,延遲1個時間間距(周)\n",
        "supervised.columns = ['sd_open', 'sd_high', 'sd_low', 'sd_close', 'open', 'high', 'low', 'close'] # 延遲1周會多4個變數出來,將4+4個欄位命名\n",
        "supervised = supervised.drop(supervised.columns[[4,5,6]], axis = 1)                               # 丟掉當天的'open', 'high', 'low',要用過去的來預測\n",
        "supervised_values = supervised.values\n",
        "supervised_values"
      ],
      "execution_count": null,
      "outputs": []
    },
    {
      "cell_type": "code",
      "metadata": {
        "id": "aPGATq8gcn0q",
        "colab_type": "code",
        "colab": {}
      },
      "source": [
        "# 切train,test資料集\n",
        "train, test = supervised_values[0:-12], supervised_values[-12:]                 # 留最後12周當test\n",
        "test"
      ],
      "execution_count": null,
      "outputs": []
    },
    {
      "cell_type": "code",
      "metadata": {
        "id": "gcYG5ekKcrCC",
        "colab_type": "code",
        "colab": {}
      },
      "source": [
        "# 資料標準化\n",
        "# tranform scale for train and test data to [-1,1]                               # 將屬性縮放到一個最大和最小值（這裡是-1~1)之間,達到標準化的目的\n",
        "def scale(train, test):                                                          \n",
        "    scaler = MinMaxScaler(feature_range=(-1,1))                                  \n",
        "    scaler = scaler.fit(train)                                                   # 用train資料集來標準化\n",
        "    #transform train\n",
        "    train = train.reshape(train.shape[0], train.shape[1])                        # train.shape => (a,b)長x高  # 變成想要的資料格式\n",
        "    train_scaled = scaler.transform(train)                                       # 將train標準化\n",
        "    #transform test\n",
        "    test = test.reshape(test.shape[0], test.shape[1])\n",
        "    test_scaled = scaler.transform(test)                                         # 將test標準化\n",
        "    return scaler, train_scaled, test_scaled                                     # return 標準化模型,標準化後的train和test\n",
        "  \n",
        "scaler, train_scaled, test_scaled = scale(train, test)                           # 自訂義(scale),對資料標準化,return 標準化模型(scaler),標準化後的train和test\n",
        "print(train_scaled.shape, test_scaled.shape)"
      ],
      "execution_count": null,
      "outputs": []
    },
    {
      "cell_type": "code",
      "metadata": {
        "id": "BCAhpRuvcsRU",
        "colab_type": "code",
        "colab": {}
      },
      "source": [
        "# 設定自訂義model(fit_lstm)的參數\n",
        "nb_epochs = 500\n",
        "neurons = 4\n",
        "\n",
        "# fit the model\n",
        "# fit an LSTM network to training data                                             # 建LSTM的model\n",
        "def fit_lstm(train, batch_size, nb_epoch, neurons):                                # train, batch_size(每一批次訓練的資料數), nb_epoch(訓練幾次), neurons(LSTM維度)\n",
        "    X, Y = train[:, 0:-1], train[:, -1]                                            # 去掉 Y(答案)\n",
        "    X = X.reshape(X.shape[0], 1, X.shape[1])                                       # 轉成LSTM所期望的3D格式，即[樣本，時間步長，特徵]\n",
        "    \n",
        "    model = Sequential()                                                                            # 建立一個線性堆疊模型\n",
        "    model.add(LSTM(neurons, batch_input_shape=(batch_size, X.shape[1], X.shape[2]), stateful=True)) # LSTM層 (stateful=True,每個批次之間是有關連的)\n",
        "    model.add(Dense(1))                                                                             # 輸出層(1):得到一個Y答案\n",
        "    # set learning rate\n",
        "    # adam = optimizers.Adam(lr=0.0001)                                            # https://ithelp.ithome.com.tw/articles/10191725?sc=rss.qu\n",
        "    adam = optimizers.Adam()                                                       # optimizers,優化函數的方式(Adam：一般而言，比SGD(隨機梯度下降法)模型訓練成本較低)\n",
        "    model.compile(loss='mean_squared_error', optimizer=adam)                       # 定義訓練的方式,這邊用\"均方誤差\"\n",
        "    for i in range(nb_epoch):                                                      # 訓練nb_epochs次\n",
        "        model.fit(X, Y, epochs=1, batch_size=batch_size, verbose=1, shuffle=False)\n",
        "        model.reset_states()                                                       # 每次重置模型中所有層的狀態\n",
        "    return model\n",
        "  \n",
        "lstm_model = fit_lstm(train_scaled, 1, nb_epochs, neurons)"
      ],
      "execution_count": null,
      "outputs": []
    },
    {
      "cell_type": "code",
      "metadata": {
        "id": "4vxbhORqcw0E",
        "colab_type": "code",
        "colab": {}
      },
      "source": [
        "# 預測整個 train數據集\n",
        "train_reshaped = train_scaled[:,0:-1]                                                        # 去掉 close(收盤價,y)\n",
        "train_reshaped = train_reshaped.reshape(train_reshaped.shape[0], 1, train_reshaped.shape[1]) # 改3維的資料型態,符合[樣本，時間步長，特徵]型態\n",
        "lstm_model.predict(train_reshaped, batch_size=1)                                             # 一次訓練一筆"
      ],
      "execution_count": null,
      "outputs": []
    },
    {
      "cell_type": "code",
      "metadata": {
        "id": "GjnCJIluc0xj",
        "colab_type": "code",
        "colab": {}
      },
      "source": [
        "# 對 test data 做預測\n",
        "# invert differenced value                                                       # 對應上方difference,轉回原價\n",
        "def inverse_difference(history, yhat, interval=1):                               # history(close_value的data), yhat(預測增減值), interval(間隔)\n",
        "    return yhat + history[-interval]                                             # yhat + history[-1] 預測漲跌+最後一次close\n",
        "# make a one-step forecast    \n",
        "def forecast_lstm(model, batch_size, X):                                           # model(訓練好的模型),batch_size(每一批次訓練的資料數),X(預測資料)\n",
        "    X = X.reshape(1, 1, len(X))                                                    # 更改資料維度,轉成3維(符合LSTM需要的格式)\n",
        "    yhat = model.predict(X, batch_size = batch_size)                               \n",
        "    return yhat[0,0]                                                               # yhat是二維 輸出一維  \n",
        "\n",
        "\n",
        "nb_correct_predict = 0\n",
        "predictions = list()                                                            \n",
        "for i in range(len(test_scaled)):                                               \n",
        "\t  # make one-step forecast                                                      \n",
        "    X, y = test_scaled[i, 0:-1], test_scaled[i, -1]                             # 去掉 close(收盤價,y)\n",
        "    X_close = test_scaled[i,-2:-1]                                              # 前一次的close(收盤價)\n",
        "    yhat = forecast_lstm(lstm_model, 1, X)                                      # forecast_lstm(自訂義),輸出預測答案\n",
        "    # Put the predictions there and invert scale                                \n",
        "    test_scaled[i, -1] = yhat                                                   # 將 yhat放進 test_scaled\n",
        "    yhat = scaler.inverse_transform(test_scaled)[i, -1]                         # 前面用 scaler.transform轉成標準化資料,現在用 inverse_transform轉回原始數據\n",
        "\t  # invert differencing                                                       # inverse_difference(自訂義),前面進模型時是用每周差值進去,現在轉回原價格  \n",
        "    yhat = inverse_difference(close_values, yhat, len(test_scaled)+1-i)         # i = 0, yhat = yhat + close_values(-13), (倒數第12周預測價格)\n",
        "\t                                                                              # i =11, yhat = yhat + close_values(-2)\n",
        "  # store forecast                                                              \n",
        "    predictions.append(yhat)                                                    # 丟進list\n",
        "    expected = close_values[len(train) + i + 1]                                 # 當次close_value價格,i = 0,對應倒數第12周(相當於-(len(test_scaled)-i))\n",
        "\t  # calculate number of correct trend predictions                             # 計算預測正確數   \n",
        "    if i != 0:\n",
        "\t    if (expected > old_expected) and (yhat > old_yhat):                       # 當 實際值 > 上次實際值 且 預測值 > 上次預測值 判斷為正確\n",
        "\t        nb_correct_predict = nb_correct_predict+1                             \n",
        "\t    elif (expected < old_expected) and (yhat < old_yhat):                     # 當 實際值 < 上次實際值 且 預測值 < 上次預測值 判斷為正確\n",
        "\t        nb_correct_predict = nb_correct_predict+1                             \n",
        "\t    elif (expected == old_expected) and (yhat == old_yhat):                   # 當 實際值 = 上次實際值 且 預測值 = 上次預測值 判斷為正確\n",
        "\t        nb_correct_predict = nb_correct_predict+1                             \n",
        "    print('Date=%s, Predicted=%f, Expected=%f' % (series.index[-12+i], yhat, expected)) # series.index為日期\n",
        "    old_yhat = yhat                                                             # 這次的 yhat為下次的 old_yhat\n",
        "    old_expected = expected  "
      ],
      "execution_count": null,
      "outputs": []
    },
    {
      "cell_type": "code",
      "metadata": {
        "id": "GBkK9rw3c5jj",
        "colab_type": "code",
        "colab": {}
      },
      "source": [
        "# 準備最後一周data(用前一周來預測)                                                # 要用最後一周的遞延值來做預測\n",
        "raw_values = series.values\n",
        "last_value = raw_values[-2:]\n",
        "diff_value = difference(last_value, 1)                                          # 拿最後兩周相減得到最後一周的差值\n",
        "b = np.array([[0]])               \n",
        "diff_value = np.insert(diff_value, 4, values=b, axis=1)                         # 要符合scaler.fit(train)的模式,在最後面補 0(相當於 close)\n",
        "scaler = MinMaxScaler(feature_range=(-1,1))                                     \n",
        "scaler = scaler.fit(train)\n",
        "diff_value = diff_value.reshape(diff_value.shape[0], diff_value.shape[1])       \n",
        "last_scaled = scaler.transform(diff_value)                                      # 標準化\n",
        "\n",
        "# 預測下一次價格\n",
        "\n",
        "last = last_scaled[0, 0:-1]\n",
        "yhat_last = forecast_lstm(lstm_model, 1, last)                                  # 進 model得到 yhat值\n",
        "# invert scaling\n",
        "last_scaled[-1, -1] = yhat_last                                                 # yhat放進 test_scale\n",
        "yhat_last = scaler.inverse_transform(last_scaled)[-1, -1]                       # 還原標準化後的數據\n",
        "# invert differencing\n",
        "yhat_last = inverse_difference(close_values, yhat_last, 1)                      # 還原差值成價格 yhat = yhat + close_values(-1)\n",
        "print('Next predicted wheat price: %f' % yhat_last)"
      ],
      "execution_count": null,
      "outputs": []
    },
    {
      "cell_type": "code",
      "metadata": {
        "id": "ED1Xdsepc9ye",
        "colab_type": "code",
        "colab": {}
      },
      "source": [
        "# 預測正確數\n",
        "p_correct_predict = nb_correct_predict/(len(test_scaled)-1) * 100\n",
        "print('Number of correct trend predictions: %d, percentage: %.1f' % (nb_correct_predict, p_correct_predict))"
      ],
      "execution_count": null,
      "outputs": []
    },
    {
      "cell_type": "code",
      "metadata": {
        "id": "d84EuG5oc_9j",
        "colab_type": "code",
        "colab": {}
      },
      "source": [
        "# 說明參數,運算時間\n",
        "rmse = sqrt(mean_squared_error(close_values[-12:], predictions))\n",
        "print('Number of Epochs: %d, Number of Neurons: %d' % (nb_epochs, neurons))\n",
        "print('Test RMSE: %.3f' % rmse)\n",
        "print('Data: Open, High, Low, Close Price')\n",
        "end = time.time()\n",
        "print('*********Time Used: %.5s seconds*********' %(end - start))"
      ],
      "execution_count": null,
      "outputs": []
    },
    {
      "cell_type": "code",
      "metadata": {
        "id": "u0Q04pvNdBrj",
        "colab_type": "code",
        "colab": {
          "base_uri": "https://localhost:8080/",
          "height": 269
        },
        "outputId": "3fafa4c4-1326-4f66-c29f-bc21b3a630c6"
      },
      "source": [
        "# 繪圖:實際vs預測\n",
        "pyplot.plot(close_values[-12:], label = 'Expected Value')\n",
        "pyplot.plot(predictions, label = 'Predicted Value')\n",
        "pyplot.legend()\n",
        "pyplot.show()"
      ],
      "execution_count": null,
      "outputs": [
        {
          "output_type": "display_data",
          "data": {
            "image/png": "[encoded data removed]",
            "text/plain": [
              "<Figure size 432x288 with 1 Axes>"
            ]
          },
          "metadata": {
            "tags": []
          }
        }
      ]
    }
  ]
}